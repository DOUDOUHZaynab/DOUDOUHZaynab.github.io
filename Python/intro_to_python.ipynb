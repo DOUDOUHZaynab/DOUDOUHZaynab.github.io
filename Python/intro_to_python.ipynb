{
  "cells": [
    {
      "cell_type": "markdown",
      "metadata": {
        "id": "AhQexzSILdyo"
      },
      "source": [
        "# Introduction au langage Python\n",
        "\n",
        "Python est un langage de programmation très utilisé en ingéniérie linguistique. Tous les outils les plus récents (dont SpaCy, dont nous parlerons plus tard) ont été créés en utilisant ce langage.\n",
        "\n",
        "A travers ce notebook, nous allons explorer les principes de base de la programmation en Python. Nous vous conseillons de réaliser les différents exercices afin d'appréhender les principaux concepts. Ils vous seront utiles pour la suite du cours."
      ]
    },
    {
      "cell_type": "markdown",
      "metadata": {
        "id": "q9i7TumyLdyp"
      },
      "source": [
        "## 1. Variables\n",
        "\n",
        "En programmation, une variable est un espace de stockage temporaire dans la mémoire de l'ordinateur qui permet de stocker une valeur ou une donnée. Chaque variable a un nom et une valeur. Le nom est une référence: il permet de réutiliser la valeur plusieurs fois dans le programme.\n",
        "\n",
        "En Python, pour créer une variable, on utilise le nom de la variable suivi d'un signe égal (`=`) et la valeur qu'on souhaite stocker. Par exemple, pour créer une variable nommée `age` et lui assigner la valeur `30`, on utilise la syntaxe suivante :\n",
        "\n",
        "```age = 30```\n",
        "\n",
        "On peut créer des variables de différents types:\n",
        "- Des entiers (`int`): `1`\n",
        "- Des nombres décimaux (`float`): `1.0`\n",
        "- Des chaines de caractère (`str`): `\"ULB\"`\n",
        "- Des opérateurs booléens (`bool`): `True` ou `False`\n",
        "\n",
        "Dans la cellule suivante de ce notebook, nous allons créer les variables `nom`, `prenom`, `age`, `taille`, `poids` et `est_etudiant`. Modifiez leurs valeurs afin qu'elles vous correspondent (vous pouvez mentir sur votre poids ^^), puis exécutez la cellule en cliquant sur le bouton `play`"
      ]
    },
    {
      "cell_type": "code",
      "execution_count": 1,
      "metadata": {
        "id": "WQyALEFfLdyq"
      },
      "outputs": [],
      "source": [
        "nom = \"Doe\"\n",
        "prenom = \"John\"\n",
        "age = 37\n",
        "taille = 1.88\n",
        "poids = 92\n",
        "est_etudiant = False"
      ]
    },
    {
      "cell_type": "markdown",
      "metadata": {
        "id": "95TxVbKzLdyr"
      },
      "source": [
        "Nous pouvons vérifier la valeur de chaque variable en \"l'imprimant\" à l'écran à l'aide du mot-clé `print`. Modifiez le code ci-dessous pour afficher la valeur des différentes variables:"
      ]
    },
    {
      "cell_type": "code",
      "execution_count": 2,
      "metadata": {
        "colab": {
          "base_uri": "https://localhost:8080/"
        },
        "id": "8e0pIpADLdyr",
        "outputId": "b7e09231-e3a4-4a63-c62f-99295c5e62b8"
      },
      "outputs": [
        {
          "output_type": "stream",
          "name": "stdout",
          "text": [
            "Doe\n"
          ]
        }
      ],
      "source": [
        "print(nom)"
      ]
    },
    {
      "cell_type": "markdown",
      "metadata": {
        "id": "irOaj6cCLdyr"
      },
      "source": [
        "Nous pouvons également explorer le type de chacune des variables que nous avons créées en utilisant le mot-clé `type`. Modifiez le code pour vérifier le type de chacune des variables:"
      ]
    },
    {
      "cell_type": "code",
      "execution_count": 3,
      "metadata": {
        "colab": {
          "base_uri": "https://localhost:8080/"
        },
        "id": "eCOZRD97Ldyr",
        "outputId": "6e42ddc1-5e7f-4f59-ffdd-954eac4ba1c5"
      },
      "outputs": [
        {
          "output_type": "stream",
          "name": "stdout",
          "text": [
            "<class 'str'>\n"
          ]
        }
      ],
      "source": [
        "print(type(nom))"
      ]
    },
    {
      "cell_type": "markdown",
      "metadata": {
        "id": "5c5cCAJiLdyr"
      },
      "source": [
        "Il est aussi possible de modifier la valeur de la variable. Il suffit de lui attribuer une nouvelle valeur, qui écrasera automatiquement la précédente. N'hésitez pas à  modifier le code ci-dessous pour modifier la valeur des variables que vous avez créées. Vous pouvez ensuite vérifier la valeur et le type après chaque changement"
      ]
    },
    {
      "cell_type": "code",
      "execution_count": 4,
      "metadata": {
        "colab": {
          "base_uri": "https://localhost:8080/"
        },
        "id": "Gi9REJo3Ldyr",
        "outputId": "98c82e2e-aabe-40a2-dc71-4dd1d0fb01e9"
      },
      "outputs": [
        {
          "output_type": "stream",
          "name": "stdout",
          "text": [
            "34.5\n",
            "<class 'float'>\n"
          ]
        }
      ],
      "source": [
        "age = 34.5\n",
        "print(age)\n",
        "print(type(age))"
      ]
    },
    {
      "cell_type": "markdown",
      "metadata": {
        "id": "6pv53F7OLdys"
      },
      "source": [
        "## 2. Opérations de base\n",
        "\n",
        "### 2.1. Opérations sur les nombres\n",
        "\n",
        "Les opérations de base en programmation sont les opérations mathématiques. Elles permettent de faire des calculs à partir des variables et s'utilisent exactement comme vous l'avez appris à l'école primaire. Les opérations principales sont donc:\n",
        "\n",
        "- L'addition (`+`)\n",
        "- La soustraction (`-`)\n",
        "- La multiplication (`*`)\n",
        "- La division (`/`)\n",
        "\n",
        "Vous pouvez également utiliser les opérations suivantes:\n",
        "- La division entière (`//`): elle donne résultat de la division sans la partie décimale => `5 // 2 = 2`\n",
        "- Le modulo (`%`): il donne le reste de la division entière => `5 % 2 = 1`\n",
        "- L'exposant (`**`)\n",
        "\n",
        "**A noter:** les opérations peuvent se faire sur les valeurs **ou** sur les variables créées précédemment. On peut par exemple calculer votre BMI à partir des valeurs entrées précédemment, et assigner le résultat à une nouvelle variable"
      ]
    },
    {
      "cell_type": "code",
      "execution_count": 5,
      "metadata": {
        "colab": {
          "base_uri": "https://localhost:8080/"
        },
        "id": "l3b7VytbLdys",
        "outputId": "b3b9caad-05b1-4c8c-8e2e-2de1bd89da22"
      },
      "outputs": [
        {
          "output_type": "stream",
          "name": "stdout",
          "text": [
            "26.029877772747852\n"
          ]
        }
      ],
      "source": [
        "bmi = poids / (taille * taille)\n",
        "print(bmi)"
      ]
    },
    {
      "cell_type": "markdown",
      "metadata": {
        "id": "16sXClclLdys"
      },
      "source": [
        "A vous de jouer. Dans la cellule suivante, modifiez la formule du BMI en remplaçant la multiplication par un exposant. Le résultat doit être un nombre entier"
      ]
    },
    {
      "cell_type": "code",
      "execution_count": 7,
      "metadata": {
        "colab": {
          "base_uri": "https://localhost:8080/"
        },
        "id": "7BGRRlVpLdys",
        "outputId": "fa1ff755-0f0a-447a-fc54-d19556cfe458"
      },
      "outputs": [
        {
          "output_type": "stream",
          "name": "stdout",
          "text": [
            "26.029877772747852\n"
          ]
        }
      ],
      "source": [
        "bmi = poids / (taille**2)\n",
        "print(bmi)"
      ]
    },
    {
      "cell_type": "markdown",
      "metadata": {
        "id": "jqhFKZc8Ldys"
      },
      "source": [
        "### 2.2. Opérations sur les chaines de caractère (string)\n",
        "\n",
        "Il est également possible de concaténer des chaines de caractères entre elles en utilisant l'opérateur `+`. On peut par exemple créer une biographie de quelqu'un en utilisant les variables précédemment créées."
      ]
    },
    {
      "cell_type": "code",
      "execution_count": 8,
      "metadata": {
        "colab": {
          "base_uri": "https://localhost:8080/"
        },
        "id": "OoG_0RzVLdyt",
        "outputId": "e1680f7a-43d4-4e73-cded-c68a18ea1a67"
      },
      "outputs": [
        {
          "output_type": "stream",
          "name": "stdout",
          "text": [
            "John Doe a 34.5 ans et mesure 1.88 mètres. Son poids est de 92 kilos. Son BMI est de 26.029877772747852.\n"
          ]
        }
      ],
      "source": [
        "biographie = prenom + \" \" + nom + \" a \" + str(age) + \" ans et mesure \" + str(taille) + \" mètres. Son poids est de \" + str(poids) + \" kilos. Son BMI est de \" + str(bmi) + \".\"\n",
        "print(biographie)"
      ]
    },
    {
      "cell_type": "markdown",
      "metadata": {
        "id": "dH4P-RkwLdyt"
      },
      "source": [
        "A noter: il est également possible (et plus propre) d'utiliser ce qu'on appelle des `f-strings` pour construire des chaines de caractère qui incluent des variables.\n",
        "\n",
        "Pour construire un `f-string`, on fait précéder la chaine de caractère de la lettre `f` et on inclut les variables dans celle-ci, entre accolades `{variable}`"
      ]
    },
    {
      "cell_type": "code",
      "execution_count": 9,
      "metadata": {
        "colab": {
          "base_uri": "https://localhost:8080/"
        },
        "id": "dTiBHeWmLdyt",
        "outputId": "851fa1d0-1a2a-4671-b8ee-ffea2f87e4dc"
      },
      "outputs": [
        {
          "output_type": "stream",
          "name": "stdout",
          "text": [
            "John Doe a 34.5 ans et mesure 1.88 mètres. Son poids est de 92 kilos. Son BMI est de 26.029877772747852.\n"
          ]
        }
      ],
      "source": [
        "biographie = f\"{prenom} {nom} a {age} ans et mesure {taille} mètres. Son poids est de {poids} kilos. Son BMI est de {bmi}.\"\n",
        "print(biographie)"
      ]
    },
    {
      "cell_type": "markdown",
      "metadata": {
        "id": "P26zXpRKLdyt"
      },
      "source": [
        "## 3. Structures de données\n",
        "\n",
        "Les structures de données sont très importantes en programmation. Elles permettent de stocker de l'information pour la traiter ensuite. Elles sont un type de variable et se déclarent de la même manière. Les deux principaux types de structures de données sont les suivants:\n",
        "\n",
        "- Listes (`list`)\n",
        "- Dictionnaires (`dict`)\n",
        "\n",
        "Les autres types sont les `tuple` et les `set`. Nous ne les utiliserons pas ici\n"
      ]
    },
    {
      "cell_type": "markdown",
      "metadata": {
        "id": "VZz7UlviLdyt"
      },
      "source": [
        "### 3.1. Les listes\n",
        "\n",
        "Les listes permettent de stocker un ensemble d'éléments (par exemple une liste d'étudiants, une liste de courses...). Elles sont déclarées avec des crochets (`[]`) Pour accéder à un élément d'une liste, on doit préciser sa position au sein de celle-ci. **Attention** on considère que le premier élément d'une liste se trouve à la position `0`. On commence donc à \"compter\" les éléments à partir de 0.\n",
        "\n",
        "Prenons l'exemple d'une liste qui contiendrait les 5 derniers Premiers Ministres belges, dont on voudrait récupérer le premier élément:"
      ]
    },
    {
      "cell_type": "code",
      "execution_count": 10,
      "metadata": {
        "colab": {
          "base_uri": "https://localhost:8080/"
        },
        "id": "QrbDtxEfLdyt",
        "outputId": "2788a2a4-28fe-4abe-b005-77cb570abace"
      },
      "outputs": [
        {
          "output_type": "stream",
          "name": "stdout",
          "text": [
            "Bart de Wever\n"
          ]
        }
      ],
      "source": [
        "# Création de la liste\n",
        "premiers_ministres = [\"Bart de Wever\",\"Alexander De Croo\", \"Sophie Wilmès\", \"Charles Michel\", \"Elio Di Rupo\", \"Yves Leterme\"]\n",
        "\n",
        "print(premiers_ministres[0])"
      ]
    },
    {
      "cell_type": "markdown",
      "metadata": {
        "id": "PyNvAIviLdyt"
      },
      "source": [
        "On peut également récupérer une partie de la liste en utilisant un `slice`. Il permet de récupérer tous les éléments entre les positions `x` (inclus) et `y` (non inclus). Essayons de récupérer les 3 premiers éléments de la liste (entre l'élément `0` et l'élément `3` non inclus)"
      ]
    },
    {
      "cell_type": "code",
      "execution_count": 11,
      "metadata": {
        "colab": {
          "base_uri": "https://localhost:8080/"
        },
        "id": "AHIjaGFDLdyt",
        "outputId": "e6920262-c714-4528-8464-18ad453b359b"
      },
      "outputs": [
        {
          "output_type": "stream",
          "name": "stdout",
          "text": [
            "['Bart de Wever', 'Alexander De Croo', 'Sophie Wilmès']\n"
          ]
        }
      ],
      "source": [
        "print(premiers_ministres[0:3])"
      ]
    },
    {
      "cell_type": "markdown",
      "metadata": {
        "id": "UcJJ20lwLdyt"
      },
      "source": [
        "Les listes peuvent aussi être ordonnées par ordre alphabétique (s'il s'agit de chaînes de caractères) ou numérique (s'il s'agit de nombres). Pour cela, on va utiliser le mot clé `sorted`"
      ]
    },
    {
      "cell_type": "code",
      "execution_count": 12,
      "metadata": {
        "colab": {
          "base_uri": "https://localhost:8080/"
        },
        "id": "xVgB7ApkLdyt",
        "outputId": "7d61844e-2174-406a-81ff-ad19b92eeddf"
      },
      "outputs": [
        {
          "output_type": "stream",
          "name": "stdout",
          "text": [
            "['Alexander De Croo', 'Bart de Wever', 'Charles Michel', 'Elio Di Rupo', 'Sophie Wilmès', 'Yves Leterme']\n"
          ]
        }
      ],
      "source": [
        "print(sorted(premiers_ministres))"
      ]
    },
    {
      "cell_type": "markdown",
      "metadata": {
        "id": "OIkCLCdGLdyu"
      },
      "source": [
        "**A vous de jouer**\n",
        "\n",
        "Créez une liste contenant les points obtenus lors des examens de votre dernière session. Ordonnez-là puis affichez uniquement les trois scores les plus hauts\n",
        "\n",
        "_Pour aller plus loin :_ Si `0` est la position du premier élément de la liste, `-1` peut être utilisé pour la position du dernier élément. Chaque élément peut donc être récupéré en utilisant un index positif (entre `0` et `x`) ou un index négatif (entre `-x` et `-1`)"
      ]
    },
    {
      "cell_type": "code",
      "execution_count": 15,
      "metadata": {
        "colab": {
          "base_uri": "https://localhost:8080/"
        },
        "id": "BWAHozMELdyu",
        "outputId": "0f4e6a38-ef8b-48eb-9f3b-961630311c81"
      },
      "outputs": [
        {
          "output_type": "execute_result",
          "data": {
            "text/plain": [
              "[18, 15, 14]"
            ]
          },
          "metadata": {},
          "execution_count": 15
        }
      ],
      "source": [
        "results= [12, 14, 9, 7, 15, 18]\n",
        "results= sorted(results, reverse=True)\n",
        "results[0:3]"
      ]
    },
    {
      "cell_type": "markdown",
      "metadata": {
        "id": "aAEOCIqXLdyu"
      },
      "source": [
        "### 3.1. Les dictionnaires\n",
        "\n",
        "Les dictionnaires sont des structures très efficaces pour accéder à une information à propos d'un élément. On y stocke des paires de `clés` et de `valeurs`. En Python, elles sont déclarées avec des accolades (`{}`). Pour accéder à la valeur d'une clé ou pour ajouter une information, on utilise des crochets (`[]`)\n",
        "\n",
        "On pourrait stocker toutes les informations d'une personne dans un dictionnaire plutôt que d'utiliser des variables:"
      ]
    },
    {
      "cell_type": "code",
      "execution_count": null,
      "metadata": {
        "id": "VZmOu9lFLdyu"
      },
      "outputs": [],
      "source": [
        "# Définition de l'étudiant\n",
        "personne = {\"nom\": \"Doe\", \"prenom\": \"John\", \"age\": 37, \"taille\": 1.88, \"poids\": 92, \"est_etudiant\": False}\n",
        "\n",
        "# Affichage de son âge\n",
        "print(personne[\"age\"])\n",
        "\n",
        "# Ajout de la nationalité\n",
        "personne[\"nationalité\"] = \"Belge\"\n",
        "print(personne[\"nationalité\"])\n",
        "\n",
        "# C'est son anniversaire: je lui ajoute un an\n",
        "personne[\"age\"] = personne[\"age\"] + 1\n",
        "print(personne[\"age\"])\n"
      ]
    },
    {
      "cell_type": "markdown",
      "metadata": {
        "id": "CKqtvlP6Ldyu"
      },
      "source": [
        "**A vous de jouer**\n",
        "\n",
        "Créez un dictionnaire qui contient comme clés les codes des cours de ce quadrimestre et comme valeurs leurs intitulés. Affichez ensuite l'intitulé du cours STIC-B425"
      ]
    },
    {
      "cell_type": "code",
      "execution_count": 17,
      "metadata": {
        "colab": {
          "base_uri": "https://localhost:8080/"
        },
        "id": "EmhiwKWLLdyu",
        "outputId": "57977c90-a65e-4b2f-8e67-192f040b9879"
      },
      "outputs": [
        {
          "output_type": "stream",
          "name": "stdout",
          "text": [
            "STIC-B425\n"
          ]
        }
      ],
      "source": [
        "# Les codes des cours de ce quadrimestre\n",
        "cours = {\"Processus\": \"STIC-B440\", \"Ingénieurie linguistique\": \"STIC-B425\", \"Introduction aux bases de données\": \"STIC-B405\", \"Stratégies numériques\": \"COMM-B430\", \"Algorithmes et programmations\": \"STIC-B455\"}\n",
        "\n",
        "# Affichage de son âge\n",
        "print(cours[\"Ingénieurie linguistique\"])"
      ]
    },
    {
      "cell_type": "markdown",
      "metadata": {
        "id": "bbD-wj-cLdyu"
      },
      "source": [
        "## 4. Conditions\n",
        "\n",
        "Les conditions sont un élément essentiel en programmation. Elles permettent d'exécuter des parties de code uniquement si une condition est remplie. Par exemple, on peut instantier une variable `age`. Si la valeur est supérieure ou égale (`>=`) à 18, on demande au programme d'imprimer `Vous êtes majeur.e.`. Dans le cas contraire, on lui demande d'imprimer `Vous êtes mineur.e`.\n"
      ]
    },
    {
      "cell_type": "code",
      "execution_count": 20,
      "metadata": {
        "colab": {
          "base_uri": "https://localhost:8080/"
        },
        "id": "_dQMnSOULdyu",
        "outputId": "a894b345-6a36-44d7-e057-95ddc7a3e8b4"
      },
      "outputs": [
        {
          "output_type": "stream",
          "name": "stdout",
          "text": [
            "Vous êtes majeur.e\n"
          ]
        }
      ],
      "source": [
        "age = 25\n",
        "if age >= 18:\n",
        "    print(\"Vous êtes majeur.e\")\n",
        "else:\n",
        "    print(\"Vous êtes mineur.e\")"
      ]
    },
    {
      "cell_type": "markdown",
      "metadata": {
        "id": "knm16OZILdyu"
      },
      "source": [
        "Les conditions peuvent également être accompagnées d'opérateurs booléens (`or`, `and`, `not`), et peuvent se succéder (`if`, `elif`, `else`). Imaginez un programme qui imprime `Vous êtes en âge de travailler` si la variable `age` est comprise entre `18` et `67`. Si l'âge est inférieur à `18`, le programme imprime `Vous êtes trop jeune`. S'il est supérieur à `67`, il imprime `Vive la pension !`"
      ]
    },
    {
      "cell_type": "code",
      "execution_count": 21,
      "metadata": {
        "colab": {
          "base_uri": "https://localhost:8080/"
        },
        "id": "JYTtx5pwLdyv",
        "outputId": "03e08fe1-2f2c-4ad5-bb08-8ee47a3a9819"
      },
      "outputs": [
        {
          "output_type": "stream",
          "name": "stdout",
          "text": [
            "Vous êtes en âge de travailler\n"
          ]
        }
      ],
      "source": [
        "age = 25\n",
        "if age >= 18 and age <= 67:\n",
        "    print(\"Vous êtes en âge de travailler\")\n",
        "elif age < 18:\n",
        "    print(\"Vous êtes trop jeune\")\n",
        "else:\n",
        "    print(\"Vive la pension !\")"
      ]
    },
    {
      "cell_type": "markdown",
      "metadata": {
        "id": "A4QXMm40Ldyv"
      },
      "source": [
        "**A vous de jouer**\n",
        "\n",
        "A partir d'informations trouvées sur Internet, calculez le BMI d'une célébrité de votre choix. Si le BMI est compris entre `20` et `25`, imprimez `Normal`. Si le BMI est inférieur à `20`, imprimez `Maigre`. Si le BMI est supérieur à `25`, imprimez `Surpoids`. Si le BMI est supérieur à `30`, imprimez `Obèse`."
      ]
    },
    {
      "cell_type": "code",
      "execution_count": 28,
      "metadata": {
        "colab": {
          "base_uri": "https://localhost:8080/"
        },
        "id": "wSaNOTL-Ldyv",
        "outputId": "1bdbee32-bdd7-49ff-ec3f-cc33db7392e2"
      },
      "outputs": [
        {
          "output_type": "stream",
          "name": "stdout",
          "text": [
            "26.029877772747852\n",
            "Normal\n"
          ]
        }
      ],
      "source": [
        "poids: 47.5\n",
        "taille: 1.58\n",
        "BMI = poids / (taille**2)\n",
        "print(bmi)\n",
        "if BMI >= 20 and age <= 25:\n",
        "    print(\"Normal\")\n",
        "elif BMI < 20:\n",
        "    print(\"Maigre\")\n",
        "elif BMI > 25:\n",
        "    print(\"Surpoids\")\n",
        "else:\n",
        "    print(\"Obèse\")"
      ]
    },
    {
      "cell_type": "markdown",
      "metadata": {
        "id": "CGmNWiTZLdyv"
      },
      "source": [
        "## 5. Boucles\n",
        "\n",
        "Les boucles permettent de répéter des blocs de code un certain nombre de fois. Elle sont utiles par exemple pour parcourir tous les éléments d'une liste. Pour ce faire on utilise les mots-clés `for` (pour indiquer chaque élément à utiliser) et `in` (pour indiquer la liste à travers laquelle on veut itérer)."
      ]
    },
    {
      "cell_type": "code",
      "execution_count": 30,
      "metadata": {
        "colab": {
          "base_uri": "https://localhost:8080/"
        },
        "id": "R8x3zvkqLdyv",
        "outputId": "5d4945f2-0882-4cbf-f5fa-3e93630ff0e7"
      },
      "outputs": [
        {
          "output_type": "stream",
          "name": "stdout",
          "text": [
            "Bart de Wever\n",
            "Alexander De Croo\n",
            "Sophie Wilmès\n",
            "Charles Michel\n",
            "Elio Di Rupo\n",
            "Yves Leterme\n"
          ]
        }
      ],
      "source": [
        "premiers_ministres = [\"Bart de Wever\",\"Alexander De Croo\", \"Sophie Wilmès\", \"Charles Michel\", \"Elio Di Rupo\", \"Yves Leterme\"]\n",
        "for premier_ministre in premiers_ministres:\n",
        "    print(premier_ministre)"
      ]
    },
    {
      "cell_type": "markdown",
      "metadata": {
        "id": "qEKSkCx8Ldyv"
      },
      "source": [
        "Il existe un autre type de boucle: la boucle `while`. Elle est utilisée pour répéter un bloc de code tant qu'une condition est vraie. Une bonne illustration est le compte à rebours. On part d'un nombre défini (disons `10`) et tant que celui-ci est plus grand que `0`, on l'imprime et on le diminue de `1`:\n",
        "\n"
      ]
    },
    {
      "cell_type": "code",
      "execution_count": 31,
      "metadata": {
        "colab": {
          "base_uri": "https://localhost:8080/"
        },
        "id": "kuemqOaKLdy4",
        "outputId": "bdc0d9c1-4e96-4d71-8755-67f62812a3b2"
      },
      "outputs": [
        {
          "output_type": "stream",
          "name": "stdout",
          "text": [
            "10\n",
            "9\n",
            "8\n",
            "7\n",
            "6\n",
            "5\n",
            "4\n",
            "3\n",
            "2\n",
            "1\n",
            "0\n"
          ]
        }
      ],
      "source": [
        "nombre = 10\n",
        "while nombre >= 0:\n",
        "    print(nombre)\n",
        "    nombre = nombre - 1"
      ]
    },
    {
      "cell_type": "markdown",
      "metadata": {
        "id": "0IrZUCbVLdy4"
      },
      "source": [
        "**A vous de jouer**\n",
        "\n",
        "Créez une liste qui contient le titre de vos 10 films préférés. Parcourez la liste à l'aide d'une boucle `for`. à l'intérieur de la boucle utilisez une condition et n'imprimez que les titres de films commençant par la lettre `m`.\n",
        "_tip_: en Python, un `string` peut être considéré comme une `list` de caractères (`\"chien\"` => `['c', 'h', 'i', 'e', 'n']`). Ce petit conseil devrait vous aider."
      ]
    },
    {
      "cell_type": "code",
      "execution_count": 34,
      "metadata": {
        "colab": {
          "base_uri": "https://localhost:8080/"
        },
        "id": "5bmVZtkgLdy5",
        "outputId": "be5960aa-bbad-4ee6-93be-eeac9e01d543"
      },
      "outputs": [
        {
          "output_type": "stream",
          "name": "stdout",
          "text": [
            "match point\n"
          ]
        }
      ],
      "source": [
        "films = [\"12 hommes en colères\",\"match point\",\"fast and furious\"]\n",
        "for film in films:\n",
        "  if film[0] ==\"m\":\n",
        "    print(film)\n"
      ]
    },
    {
      "cell_type": "markdown",
      "metadata": {
        "id": "OVtaTrGcLdy5"
      },
      "source": [
        "## 6. Fonctions\n",
        "\n",
        "Une fonction est un bloc de code réutilisable qui effectue une tâche spécifique. Les fonctions permettent d'éviter la répétition de parties de code.\n",
        "\n",
        "Par exemple, plutôt que de réécrire la formule du BMI pour toute nouvelle personne, vous pouvez créer une fonction (`def`) `get_bmi` qui prend en entrée un poids et une taille, et calcule (et renvoie - `return`- ) le BMI. De cette manière, si la formule change un jour, vous ne devez la modifier qu'à un seul endroit.\n",
        "\n",
        "Comparez les deux cellules de code suivantes:"
      ]
    },
    {
      "cell_type": "code",
      "execution_count": 36,
      "metadata": {
        "colab": {
          "base_uri": "https://localhost:8080/"
        },
        "id": "bNazrKHhLdy5",
        "outputId": "df395971-4e60-4483-a1dc-a5c4d95047b6"
      },
      "outputs": [
        {
          "output_type": "stream",
          "name": "stdout",
          "text": [
            "25.46401086464464\n",
            "25.24933720489837\n"
          ]
        }
      ],
      "source": [
        "poids_personne_a = 90\n",
        "taille_personne_a = 1.88\n",
        "\n",
        "bmi_personne_a = poids_personne_a / (taille_personne_a ** 2)\n",
        "print(bmi_personne_a)\n",
        "\n",
        "poids_personne_b = 80\n",
        "taille_personne_b = 1.78\n",
        "\n",
        "bmi_personne_b = poids_personne_b / (taille_personne_b ** 2)\n",
        "print(bmi_personne_b)\n"
      ]
    },
    {
      "cell_type": "code",
      "execution_count": null,
      "metadata": {
        "id": "VsTZEVxrLdy5"
      },
      "outputs": [],
      "source": [
        "def get_bmi(poids, taille):\n",
        "    return poids / (taille ** 2)\n",
        "\n",
        "poids_personne_a = 90\n",
        "taille_personne_a = 1.88\n",
        "bmi_personne_a = get_bmi(poids_personne_a, taille_personne_a)\n",
        "print(bmi_personne_a)\n",
        "\n",
        "poids_personne_b = 80\n",
        "taille_personne_b = 1.78\n",
        "bmi_personne_b = get_bmi(poids_personne_b, taille_personne_b)\n",
        "print(bmi_personne_b)"
      ]
    },
    {
      "cell_type": "markdown",
      "metadata": {
        "id": "o7YfIN2VLdy5"
      },
      "source": [
        "Imaginez que l'OMS change la formule du BMI et considère qu'il s'agit du poids sur la taille au cube (et non au carré). Modifiez les deux cellules ci-dessus. Vous vous rendrez compte qu'en utilisant une fonction, vous ne devez faire qu'une fois la modification, au lieu de 2 si vous n'utilisez pas de fonction.\n",
        "\n",
        "Dans cet exemple, l'impact est assez minime. Mais dans des projets plus complexes, il n'est pas rare qu'une fonction évite des centaines de changements dans le code."
      ]
    },
    {
      "cell_type": "markdown",
      "metadata": {
        "id": "bIZIlZU5Ldy5"
      },
      "source": [
        "## 7. Conclusion\n",
        "\n",
        "Vous voilà un peu plus familiers avec les bases du langage Python. Bien sûr, ce notebook est très introductif, mais il vous permet de comprendre les éléments principaux de la programmation. Si vous voulez en savoir plus, il existe de nombreux cours et tutoriaux en ligne. Nous vous invitons à faire vos propres recherches :-)"
      ]
    },
    {
      "cell_type": "markdown",
      "metadata": {
        "id": "j_EVKCKgLdy5"
      },
      "source": []
    }
  ],
  "metadata": {
    "kernelspec": {
      "display_name": ".inglin_venv (3.12.3)",
      "language": "python",
      "name": "python3"
    },
    "language_info": {
      "codemirror_mode": {
        "name": "ipython",
        "version": 3
      },
      "file_extension": ".py",
      "mimetype": "text/x-python",
      "name": "python",
      "nbconvert_exporter": "python",
      "pygments_lexer": "ipython3",
      "version": "3.12.3"
    },
    "orig_nbformat": 4,
    "colab": {
      "provenance": []
    }
  },
  "nbformat": 4,
  "nbformat_minor": 0
}